{
 "cells": [
  {
   "cell_type": "code",
   "execution_count": 2,
   "metadata": {},
   "outputs": [
    {
     "name": "stderr",
     "output_type": "stream",
     "text": [
      "Exception in Tkinter callback\n",
      "Traceback (most recent call last):\n",
      "  File \"/opt/anaconda3/lib/python3.8/tkinter/__init__.py\", line 1883, in __call__\n",
      "    return self.func(*args)\n",
      "  File \"<ipython-input-2-84b4d943d38f>\", line 9, in openfile\n",
      "    filepath = askopenfilename()\n",
      "NameError: name 'askopenfilename' is not defined\n"
     ]
    }
   ],
   "source": []
  },
  {
   "cell_type": "code",
   "execution_count": null,
   "metadata": {},
   "outputs": [],
   "source": [
    "import sys\n",
    "from tkinter import *\n",
    "from tkinter import filedialog\n",
    "\n",
    "\n",
    "def mHello():\n",
    "    mText=ment.get()\n",
    "    mlabel1 = Label(myApp,text=mText).pack()\n",
    "\n",
    "def myNew():\n",
    "    mlabel1 = Label(myApp,text=\"YO\").pack()\n",
    "\n",
    "def myOpen():\n",
    "    myOpen = filedialog.askopenfile()\n",
    "    mlabel4 = Label(myApp,text=myOpen).pack()\n",
    "\n",
    "def mAbout():\n",
    "    tkinter.messagebox.showinfo(title=\"About\",message=\"This is the ID3 Decision Tree application for it340\")\n",
    "\n",
    "def mQuit():\n",
    "    mExit = messagebox.askyesno(title=\"Quit\", message=\"Are you sure\")\n",
    "    if mExit > 0:\n",
    "        myApp.destroy()\n",
    "        \n",
    "    \n",
    "myApp = Tk()\n",
    "#create a string variable\n",
    "ment = StringVar()\n",
    "\n",
    "#set the size of window\n",
    "myApp.geometry('750x500+200+200')\n",
    "\n",
    "myApp.title('ID3 Decision Tree')\n",
    "\n",
    "mLabel = Label(myApp,text='(1) Produce a decision tree from a list of examples').pack()\n",
    "mButton = Button(myApp,text ='Option 1', command = mHello).pack()\n",
    "mLabel2 = Label(myApp,text='(2) Given a decision tree and a file of instances, produce a file of labeled examples.').pack()\n",
    "mButton2 = Button(myApp,text ='Option 2', command = mHello).pack()\n",
    "mLabel3 = Label(myApp,text='(3) Print out a decision tree').pack()\n",
    "mButton3 = Button(myApp,text ='Option 3', command = mHello).pack()\n",
    "mLabel4 = Label(myApp,text='(4) Read a file of test examples and report the accuracy of the tree on those examples').pack()\n",
    "mButton4 = Button(myApp,text ='Option 4', command = mHello).pack()\n",
    "#set the ment variable from the text entry box\n",
    "mEntry = Entry(myApp,textvariable=ment).pack()\n",
    "\n",
    "#create the menubar\n",
    "menubar = Menu(myApp)\n",
    "\n",
    "#create the file component of that menubar\n",
    "filemenu = Menu(menubar, tearoff=0)\n",
    "\n",
    "#Add the sub headings to the file menu\n",
    "filemenu.add_command(label=\"New\", command=myNew)\n",
    "filemenu.add_command(label=\"Open\", command=myOpen)\n",
    "filemenu.add_command(label=\"Save As...\")\n",
    "filemenu.add_command(label=\"Close\", command=mQuit)\n",
    "\n",
    "menubar.add_cascade(label=\"File\",menu=filemenu)\n",
    "\n",
    "\n",
    "helpmenu = Menu(menubar, tearoff=0)\n",
    "helpmenu.add_command(label=\"Help docs\")\n",
    "helpmenu.add_command(label=\"About\",command=mAbout)\n",
    "menubar.add_cascade(label=\"Help\",menu=helpmenu)\n",
    "\n",
    "\n",
    "\n",
    "#add menubar to the window\n",
    "myApp.config(menu=menubar)\n",
    "\n",
    "myApp.mainloop()"
   ]
  },
  {
   "cell_type": "code",
   "execution_count": null,
   "metadata": {},
   "outputs": [],
   "source": []
  }
 ],
 "metadata": {
  "kernelspec": {
   "display_name": "Python 3",
   "language": "python",
   "name": "python3"
  },
  "language_info": {
   "codemirror_mode": {
    "name": "ipython",
    "version": 3
   },
   "file_extension": ".py",
   "mimetype": "text/x-python",
   "name": "python",
   "nbconvert_exporter": "python",
   "pygments_lexer": "ipython3",
   "version": "3.8.3"
  }
 },
 "nbformat": 4,
 "nbformat_minor": 4
}
